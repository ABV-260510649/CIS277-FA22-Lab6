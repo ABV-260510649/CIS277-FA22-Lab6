{
 "cells": [
  {
   "cell_type": "markdown",
   "metadata": {},
   "source": [
    "# Lab 6 - Data Visualization with Seaborn"
   ]
  },
  {
   "cell_type": "code",
   "execution_count": 1,
   "metadata": {},
   "outputs": [],
   "source": [
    "import pandas as pd\n",
    "import matplotlib.pyplot as plt\n",
    "import seaborn as sns"
   ]
  },
  {
   "cell_type": "markdown",
   "metadata": {},
   "source": [
    "## NFL Offense Data"
   ]
  },
  {
   "cell_type": "markdown",
   "metadata": {},
   "source": [
    "1. Import the NFL week 3-7 data and add a week column to dataset and set the value to the given week (e.g. 3 )for all rows from that week. Combine the weekly dataframes by adding the dataframes together row-wise. Next, merge the division and abbreviation data to this dataframe so that the division and conference info is included (using  team_colors_logos.csv or nfl_teams.csv)."
   ]
  },
  {
   "cell_type": "code",
   "execution_count": 3,
   "metadata": {},
   "outputs": [
    {
     "data": {
      "text/html": [
       "<div>\n",
       "<style scoped>\n",
       "    .dataframe tbody tr th:only-of-type {\n",
       "        vertical-align: middle;\n",
       "    }\n",
       "\n",
       "    .dataframe tbody tr th {\n",
       "        vertical-align: top;\n",
       "    }\n",
       "\n",
       "    .dataframe thead th {\n",
       "        text-align: right;\n",
       "    }\n",
       "</style>\n",
       "<table border=\"1\" class=\"dataframe\">\n",
       "  <thead>\n",
       "    <tr style=\"text-align: right;\">\n",
       "      <th></th>\n",
       "      <th>rank</th>\n",
       "      <th>team</th>\n",
       "      <th>games</th>\n",
       "      <th>points_scored</th>\n",
       "      <th>total_yards</th>\n",
       "      <th>offensive_plays</th>\n",
       "      <th>yards_per_play</th>\n",
       "      <th>turnovers_lost</th>\n",
       "      <th>fumbles_lost</th>\n",
       "      <th>1st_downs</th>\n",
       "      <th>...</th>\n",
       "      <th>rushing_yards</th>\n",
       "      <th>rushing_touchdowns</th>\n",
       "      <th>rushing_yards_per_attempt</th>\n",
       "      <th>rushing_1st_downs</th>\n",
       "      <th>penalties</th>\n",
       "      <th>penalty_yards</th>\n",
       "      <th>1st_down_penalties</th>\n",
       "      <th>percentage_scoring_drives</th>\n",
       "      <th>percentage_turnover_drives</th>\n",
       "      <th>expected_points</th>\n",
       "    </tr>\n",
       "  </thead>\n",
       "  <tbody>\n",
       "    <tr>\n",
       "      <th>0</th>\n",
       "      <td>1</td>\n",
       "      <td>Baltimore Ravens</td>\n",
       "      <td>3</td>\n",
       "      <td>99</td>\n",
       "      <td>1141</td>\n",
       "      <td>166</td>\n",
       "      <td>6.9</td>\n",
       "      <td>3</td>\n",
       "      <td>1</td>\n",
       "      <td>55</td>\n",
       "      <td>...</td>\n",
       "      <td>406</td>\n",
       "      <td>2</td>\n",
       "      <td>5.6</td>\n",
       "      <td>18</td>\n",
       "      <td>8</td>\n",
       "      <td>44</td>\n",
       "      <td>5</td>\n",
       "      <td>42.9</td>\n",
       "      <td>8.6</td>\n",
       "      <td>35.63</td>\n",
       "    </tr>\n",
       "    <tr>\n",
       "      <th>1</th>\n",
       "      <td>2</td>\n",
       "      <td>Detroit Lions</td>\n",
       "      <td>3</td>\n",
       "      <td>95</td>\n",
       "      <td>1227</td>\n",
       "      <td>203</td>\n",
       "      <td>6.0</td>\n",
       "      <td>2</td>\n",
       "      <td>0</td>\n",
       "      <td>63</td>\n",
       "      <td>...</td>\n",
       "      <td>511</td>\n",
       "      <td>5</td>\n",
       "      <td>5.9</td>\n",
       "      <td>20</td>\n",
       "      <td>15</td>\n",
       "      <td>129</td>\n",
       "      <td>5</td>\n",
       "      <td>40.5</td>\n",
       "      <td>5.4</td>\n",
       "      <td>31.05</td>\n",
       "    </tr>\n",
       "    <tr>\n",
       "      <th>2</th>\n",
       "      <td>3</td>\n",
       "      <td>Buffalo Bills</td>\n",
       "      <td>3</td>\n",
       "      <td>91</td>\n",
       "      <td>1324</td>\n",
       "      <td>213</td>\n",
       "      <td>6.2</td>\n",
       "      <td>5</td>\n",
       "      <td>3</td>\n",
       "      <td>77</td>\n",
       "      <td>...</td>\n",
       "      <td>337</td>\n",
       "      <td>1</td>\n",
       "      <td>4.7</td>\n",
       "      <td>22</td>\n",
       "      <td>20</td>\n",
       "      <td>136</td>\n",
       "      <td>6</td>\n",
       "      <td>46.7</td>\n",
       "      <td>16.7</td>\n",
       "      <td>47.46</td>\n",
       "    </tr>\n",
       "    <tr>\n",
       "      <th>3</th>\n",
       "      <td>4</td>\n",
       "      <td>Kansas City Chiefs</td>\n",
       "      <td>3</td>\n",
       "      <td>88</td>\n",
       "      <td>1122</td>\n",
       "      <td>180</td>\n",
       "      <td>6.2</td>\n",
       "      <td>3</td>\n",
       "      <td>2</td>\n",
       "      <td>68</td>\n",
       "      <td>...</td>\n",
       "      <td>279</td>\n",
       "      <td>2</td>\n",
       "      <td>4.1</td>\n",
       "      <td>15</td>\n",
       "      <td>15</td>\n",
       "      <td>124</td>\n",
       "      <td>8</td>\n",
       "      <td>45.2</td>\n",
       "      <td>6.5</td>\n",
       "      <td>40.73</td>\n",
       "    </tr>\n",
       "    <tr>\n",
       "      <th>4</th>\n",
       "      <td>5</td>\n",
       "      <td>Philadelphia Eagles</td>\n",
       "      <td>3</td>\n",
       "      <td>86</td>\n",
       "      <td>1341</td>\n",
       "      <td>208</td>\n",
       "      <td>6.4</td>\n",
       "      <td>1</td>\n",
       "      <td>0</td>\n",
       "      <td>73</td>\n",
       "      <td>...</td>\n",
       "      <td>451</td>\n",
       "      <td>6</td>\n",
       "      <td>4.4</td>\n",
       "      <td>26</td>\n",
       "      <td>23</td>\n",
       "      <td>173</td>\n",
       "      <td>6</td>\n",
       "      <td>39.4</td>\n",
       "      <td>3.0</td>\n",
       "      <td>45.06</td>\n",
       "    </tr>\n",
       "  </tbody>\n",
       "</table>\n",
       "<p>5 rows × 28 columns</p>\n",
       "</div>"
      ],
      "text/plain": [
       "   rank                 team  games  points_scored  total_yards  \\\n",
       "0     1     Baltimore Ravens      3             99         1141   \n",
       "1     2        Detroit Lions      3             95         1227   \n",
       "2     3        Buffalo Bills      3             91         1324   \n",
       "3     4   Kansas City Chiefs      3             88         1122   \n",
       "4     5  Philadelphia Eagles      3             86         1341   \n",
       "\n",
       "   offensive_plays  yards_per_play  turnovers_lost  fumbles_lost  1st_downs  \\\n",
       "0              166             6.9               3             1         55   \n",
       "1              203             6.0               2             0         63   \n",
       "2              213             6.2               5             3         77   \n",
       "3              180             6.2               3             2         68   \n",
       "4              208             6.4               1             0         73   \n",
       "\n",
       "   ...  rushing_yards  rushing_touchdowns  rushing_yards_per_attempt  \\\n",
       "0  ...            406                   2                        5.6   \n",
       "1  ...            511                   5                        5.9   \n",
       "2  ...            337                   1                        4.7   \n",
       "3  ...            279                   2                        4.1   \n",
       "4  ...            451                   6                        4.4   \n",
       "\n",
       "   rushing_1st_downs  penalties  penalty_yards  1st_down_penalties  \\\n",
       "0                 18          8             44                   5   \n",
       "1                 20         15            129                   5   \n",
       "2                 22         20            136                   6   \n",
       "3                 15         15            124                   8   \n",
       "4                 26         23            173                   6   \n",
       "\n",
       "   percentage_scoring_drives  percentage_turnover_drives  expected_points  \n",
       "0                       42.9                         8.6            35.63  \n",
       "1                       40.5                         5.4            31.05  \n",
       "2                       46.7                        16.7            47.46  \n",
       "3                       45.2                         6.5            40.73  \n",
       "4                       39.4                         3.0            45.06  \n",
       "\n",
       "[5 rows x 28 columns]"
      ]
     },
     "execution_count": 3,
     "metadata": {},
     "output_type": "execute_result"
    }
   ],
   "source": [
    "df = pd.read_csv(\"nfloffenseweek3.csv\")\n",
    "df.head()"
   ]
  },
  {
   "cell_type": "markdown",
   "metadata": {},
   "source": [
    "2. Plot the average number of points scored each week for each team on a horizontal bar chart (with teams on the vertical axis and points on the horizontal axis). Add the points scored for each bar. (Hint: check out `plt.bar_label()`)"
   ]
  },
  {
   "cell_type": "code",
   "execution_count": null,
   "metadata": {},
   "outputs": [],
   "source": []
  },
  {
   "cell_type": "markdown",
   "metadata": {},
   "source": [
    "3. Plot the average passing yards and average rushing yards for each team as a stacked bar chart."
   ]
  },
  {
   "cell_type": "code",
   "execution_count": null,
   "metadata": {},
   "outputs": [],
   "source": []
  },
  {
   "cell_type": "markdown",
   "metadata": {},
   "source": [
    "4. Plot the average total yards vs average first downs for each team on a scatter plot (with first downs on the x axis and total yards on the y axis)."
   ]
  },
  {
   "cell_type": "code",
   "execution_count": null,
   "metadata": {},
   "outputs": [],
   "source": []
  },
  {
   "cell_type": "markdown",
   "metadata": {},
   "source": [
    "5. Plot the penalty yards for the Balitmore Ravens and the LA Rams for each week as a line chart (with week on the x-axis and penalty yards on the y-axis)."
   ]
  },
  {
   "cell_type": "code",
   "execution_count": null,
   "metadata": {},
   "outputs": [],
   "source": []
  },
  {
   "cell_type": "markdown",
   "metadata": {},
   "source": [
    "6. Plot the average total points vs average yards per play for each team as a scatter plot (with total points on the y-axis and yards per play on the x-axis)."
   ]
  },
  {
   "cell_type": "code",
   "execution_count": null,
   "metadata": {},
   "outputs": [],
   "source": []
  },
  {
   "cell_type": "markdown",
   "metadata": {},
   "source": [
    "7. Plot the number of penalty yards for each team in the NFC West for each week on bar chart."
   ]
  },
  {
   "cell_type": "code",
   "execution_count": null,
   "metadata": {},
   "outputs": [],
   "source": []
  },
  {
   "cell_type": "markdown",
   "metadata": {},
   "source": [
    "8. Plot the average number of weekly points per (conference and division) on a horizontal bar chart. (There will be 8 bars.)"
   ]
  },
  {
   "cell_type": "code",
   "execution_count": null,
   "metadata": {},
   "outputs": [],
   "source": []
  }
 ],
 "metadata": {
  "kernelspec": {
   "display_name": "Python 3.8.2 ('base')",
   "language": "python",
   "name": "python3"
  },
  "language_info": {
   "codemirror_mode": {
    "name": "ipython",
    "version": 3
   },
   "file_extension": ".py",
   "mimetype": "text/x-python",
   "name": "python",
   "nbconvert_exporter": "python",
   "pygments_lexer": "ipython3",
   "version": "3.8.2"
  },
  "orig_nbformat": 4,
  "vscode": {
   "interpreter": {
    "hash": "f2745af96acbee78653c764a6f365ae1c9237a8060f8d2db18cddaa54531309e"
   }
  }
 },
 "nbformat": 4,
 "nbformat_minor": 2
}
